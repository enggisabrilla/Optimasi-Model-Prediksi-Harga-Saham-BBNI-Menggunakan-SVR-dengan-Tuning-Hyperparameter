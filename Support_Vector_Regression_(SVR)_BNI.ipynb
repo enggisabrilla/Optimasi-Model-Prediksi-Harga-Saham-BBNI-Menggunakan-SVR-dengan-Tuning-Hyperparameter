{
  "nbformat": 4,
  "nbformat_minor": 0,
  "metadata": {
    "colab": {
      "provenance": [],
      "cell_execution_strategy": "setup",
      "authorship_tag": "ABX9TyOVK9xs7pIYJZSBrOl4iy1/",
      "include_colab_link": true
    },
    "kernelspec": {
      "name": "python3",
      "display_name": "Python 3"
    },
    "language_info": {
      "name": "python"
    }
  },
  "cells": [
    {
      "cell_type": "markdown",
      "metadata": {
        "id": "view-in-github",
        "colab_type": "text"
      },
      "source": [
        "<a href=\"https://colab.research.google.com/github/enggisabrilla/Optimasi-Model-Prediksi-Harga-Saham-BBNI-Menggunakan-SVR-dengan-Tuning-Hyperparameter/blob/main/Support_Vector_Regression_(SVR)_BNI.ipynb\" target=\"_parent\"><img src=\"https://colab.research.google.com/assets/colab-badge.svg\" alt=\"Open In Colab\"/></a>"
      ]
    },
    {
      "cell_type": "markdown",
      "source": [
        "# Import Library"
      ],
      "metadata": {
        "id": "p8cLaIxHZ-jE"
      }
    },
    {
      "cell_type": "code",
      "execution_count": 53,
      "metadata": {
        "id": "zH-U9b3bZuu3"
      },
      "outputs": [],
      "source": [
        "import pandas as pd\n",
        "import numpy as np\n",
        "import matplotlib.pyplot as plt\n",
        "import seaborn as sns\n",
        "\n",
        "from sklearn.model_selection import train_test_split\n",
        "from sklearn.preprocessing import StandardScaler\n",
        "from sklearn.svm import SVR\n",
        "from sklearn.metrics import mean_absolute_error, mean_squared_error, r2_score"
      ]
    },
    {
      "cell_type": "markdown",
      "source": [
        "# Load Dataset"
      ],
      "metadata": {
        "id": "R4bALKrVaSK9"
      }
    },
    {
      "cell_type": "code",
      "source": [
        "data = pd.read_csv('/content/BNI.csv')"
      ],
      "metadata": {
        "id": "uhfuPf3vaOcE"
      },
      "execution_count": 54,
      "outputs": []
    },
    {
      "cell_type": "code",
      "source": [
        "data.shape"
      ],
      "metadata": {
        "colab": {
          "base_uri": "https://localhost:8080/"
        },
        "id": "5plAy3VpaW2T",
        "outputId": "ac995a7d-7929-4cdf-bc5c-70829ab10873"
      },
      "execution_count": 55,
      "outputs": [
        {
          "output_type": "execute_result",
          "data": {
            "text/plain": [
              "(1499, 7)"
            ]
          },
          "metadata": {},
          "execution_count": 55
        }
      ]
    },
    {
      "cell_type": "code",
      "source": [
        "data"
      ],
      "metadata": {
        "colab": {
          "base_uri": "https://localhost:8080/",
          "height": 424
        },
        "id": "lMcaX1QZaVAM",
        "outputId": "f60722fe-cd4c-41be-dc17-ba6a51fae008"
      },
      "execution_count": 56,
      "outputs": [
        {
          "output_type": "execute_result",
          "data": {
            "text/plain": [
              "         Tanggal  Harga Buka  Harga Tertinggi   Harga Terendah  Harga Tutup  \\\n",
              "0     2019-01-01      4400.0            4400.0          4400.0       4400.0   \n",
              "1     2019-01-02      4400.0            4400.0          4337.5       4362.5   \n",
              "2     2019-01-03      4337.5            4387.5          4325.0       4362.5   \n",
              "3     2019-01-04      4362.5            4400.0          4337.5       4362.5   \n",
              "4     2019-01-07      4412.5            4462.5          4412.5       4437.5   \n",
              "...          ...         ...               ...             ...          ...   \n",
              "1494  2025-02-11      4150.0            4170.0          4050.0       4070.0   \n",
              "1495  2025-02-12      4130.0            4300.0          4100.0       4300.0   \n",
              "1496  2025-02-13      4280.0            4300.0          4210.0       4250.0   \n",
              "1497  2025-02-14      4310.0            4390.0          4300.0       4370.0   \n",
              "1498  2025-02-17      4370.0            4590.0          4350.0       4570.0   \n",
              "\n",
              "      Harga Penutupan Disesuaikan  Volume Perdagangan  \n",
              "0                     3718.353760                   0  \n",
              "1                     3686.663086            15681200  \n",
              "2                     3686.663086            21416600  \n",
              "3                     3686.663086            41078600  \n",
              "4                     3750.043945            48108200  \n",
              "...                           ...                 ...  \n",
              "1494                  4070.000000            52994400  \n",
              "1495                  4300.000000            57782300  \n",
              "1496                  4250.000000            38173200  \n",
              "1497                  4370.000000            61932800  \n",
              "1498                  4570.000000            52492800  \n",
              "\n",
              "[1499 rows x 7 columns]"
            ],
            "text/html": [
              "\n",
              "  <div id=\"df-57a98122-3c50-4a98-a843-6d4eb26b5b0a\" class=\"colab-df-container\">\n",
              "    <div>\n",
              "<style scoped>\n",
              "    .dataframe tbody tr th:only-of-type {\n",
              "        vertical-align: middle;\n",
              "    }\n",
              "\n",
              "    .dataframe tbody tr th {\n",
              "        vertical-align: top;\n",
              "    }\n",
              "\n",
              "    .dataframe thead th {\n",
              "        text-align: right;\n",
              "    }\n",
              "</style>\n",
              "<table border=\"1\" class=\"dataframe\">\n",
              "  <thead>\n",
              "    <tr style=\"text-align: right;\">\n",
              "      <th></th>\n",
              "      <th>Tanggal</th>\n",
              "      <th>Harga Buka</th>\n",
              "      <th>Harga Tertinggi</th>\n",
              "      <th>Harga Terendah</th>\n",
              "      <th>Harga Tutup</th>\n",
              "      <th>Harga Penutupan Disesuaikan</th>\n",
              "      <th>Volume Perdagangan</th>\n",
              "    </tr>\n",
              "  </thead>\n",
              "  <tbody>\n",
              "    <tr>\n",
              "      <th>0</th>\n",
              "      <td>2019-01-01</td>\n",
              "      <td>4400.0</td>\n",
              "      <td>4400.0</td>\n",
              "      <td>4400.0</td>\n",
              "      <td>4400.0</td>\n",
              "      <td>3718.353760</td>\n",
              "      <td>0</td>\n",
              "    </tr>\n",
              "    <tr>\n",
              "      <th>1</th>\n",
              "      <td>2019-01-02</td>\n",
              "      <td>4400.0</td>\n",
              "      <td>4400.0</td>\n",
              "      <td>4337.5</td>\n",
              "      <td>4362.5</td>\n",
              "      <td>3686.663086</td>\n",
              "      <td>15681200</td>\n",
              "    </tr>\n",
              "    <tr>\n",
              "      <th>2</th>\n",
              "      <td>2019-01-03</td>\n",
              "      <td>4337.5</td>\n",
              "      <td>4387.5</td>\n",
              "      <td>4325.0</td>\n",
              "      <td>4362.5</td>\n",
              "      <td>3686.663086</td>\n",
              "      <td>21416600</td>\n",
              "    </tr>\n",
              "    <tr>\n",
              "      <th>3</th>\n",
              "      <td>2019-01-04</td>\n",
              "      <td>4362.5</td>\n",
              "      <td>4400.0</td>\n",
              "      <td>4337.5</td>\n",
              "      <td>4362.5</td>\n",
              "      <td>3686.663086</td>\n",
              "      <td>41078600</td>\n",
              "    </tr>\n",
              "    <tr>\n",
              "      <th>4</th>\n",
              "      <td>2019-01-07</td>\n",
              "      <td>4412.5</td>\n",
              "      <td>4462.5</td>\n",
              "      <td>4412.5</td>\n",
              "      <td>4437.5</td>\n",
              "      <td>3750.043945</td>\n",
              "      <td>48108200</td>\n",
              "    </tr>\n",
              "    <tr>\n",
              "      <th>...</th>\n",
              "      <td>...</td>\n",
              "      <td>...</td>\n",
              "      <td>...</td>\n",
              "      <td>...</td>\n",
              "      <td>...</td>\n",
              "      <td>...</td>\n",
              "      <td>...</td>\n",
              "    </tr>\n",
              "    <tr>\n",
              "      <th>1494</th>\n",
              "      <td>2025-02-11</td>\n",
              "      <td>4150.0</td>\n",
              "      <td>4170.0</td>\n",
              "      <td>4050.0</td>\n",
              "      <td>4070.0</td>\n",
              "      <td>4070.000000</td>\n",
              "      <td>52994400</td>\n",
              "    </tr>\n",
              "    <tr>\n",
              "      <th>1495</th>\n",
              "      <td>2025-02-12</td>\n",
              "      <td>4130.0</td>\n",
              "      <td>4300.0</td>\n",
              "      <td>4100.0</td>\n",
              "      <td>4300.0</td>\n",
              "      <td>4300.000000</td>\n",
              "      <td>57782300</td>\n",
              "    </tr>\n",
              "    <tr>\n",
              "      <th>1496</th>\n",
              "      <td>2025-02-13</td>\n",
              "      <td>4280.0</td>\n",
              "      <td>4300.0</td>\n",
              "      <td>4210.0</td>\n",
              "      <td>4250.0</td>\n",
              "      <td>4250.000000</td>\n",
              "      <td>38173200</td>\n",
              "    </tr>\n",
              "    <tr>\n",
              "      <th>1497</th>\n",
              "      <td>2025-02-14</td>\n",
              "      <td>4310.0</td>\n",
              "      <td>4390.0</td>\n",
              "      <td>4300.0</td>\n",
              "      <td>4370.0</td>\n",
              "      <td>4370.000000</td>\n",
              "      <td>61932800</td>\n",
              "    </tr>\n",
              "    <tr>\n",
              "      <th>1498</th>\n",
              "      <td>2025-02-17</td>\n",
              "      <td>4370.0</td>\n",
              "      <td>4590.0</td>\n",
              "      <td>4350.0</td>\n",
              "      <td>4570.0</td>\n",
              "      <td>4570.000000</td>\n",
              "      <td>52492800</td>\n",
              "    </tr>\n",
              "  </tbody>\n",
              "</table>\n",
              "<p>1499 rows × 7 columns</p>\n",
              "</div>\n",
              "    <div class=\"colab-df-buttons\">\n",
              "\n",
              "  <div class=\"colab-df-container\">\n",
              "    <button class=\"colab-df-convert\" onclick=\"convertToInteractive('df-57a98122-3c50-4a98-a843-6d4eb26b5b0a')\"\n",
              "            title=\"Convert this dataframe to an interactive table.\"\n",
              "            style=\"display:none;\">\n",
              "\n",
              "  <svg xmlns=\"http://www.w3.org/2000/svg\" height=\"24px\" viewBox=\"0 -960 960 960\">\n",
              "    <path d=\"M120-120v-720h720v720H120Zm60-500h600v-160H180v160Zm220 220h160v-160H400v160Zm0 220h160v-160H400v160ZM180-400h160v-160H180v160Zm440 0h160v-160H620v160ZM180-180h160v-160H180v160Zm440 0h160v-160H620v160Z\"/>\n",
              "  </svg>\n",
              "    </button>\n",
              "\n",
              "  <style>\n",
              "    .colab-df-container {\n",
              "      display:flex;\n",
              "      gap: 12px;\n",
              "    }\n",
              "\n",
              "    .colab-df-convert {\n",
              "      background-color: #E8F0FE;\n",
              "      border: none;\n",
              "      border-radius: 50%;\n",
              "      cursor: pointer;\n",
              "      display: none;\n",
              "      fill: #1967D2;\n",
              "      height: 32px;\n",
              "      padding: 0 0 0 0;\n",
              "      width: 32px;\n",
              "    }\n",
              "\n",
              "    .colab-df-convert:hover {\n",
              "      background-color: #E2EBFA;\n",
              "      box-shadow: 0px 1px 2px rgba(60, 64, 67, 0.3), 0px 1px 3px 1px rgba(60, 64, 67, 0.15);\n",
              "      fill: #174EA6;\n",
              "    }\n",
              "\n",
              "    .colab-df-buttons div {\n",
              "      margin-bottom: 4px;\n",
              "    }\n",
              "\n",
              "    [theme=dark] .colab-df-convert {\n",
              "      background-color: #3B4455;\n",
              "      fill: #D2E3FC;\n",
              "    }\n",
              "\n",
              "    [theme=dark] .colab-df-convert:hover {\n",
              "      background-color: #434B5C;\n",
              "      box-shadow: 0px 1px 3px 1px rgba(0, 0, 0, 0.15);\n",
              "      filter: drop-shadow(0px 1px 2px rgba(0, 0, 0, 0.3));\n",
              "      fill: #FFFFFF;\n",
              "    }\n",
              "  </style>\n",
              "\n",
              "    <script>\n",
              "      const buttonEl =\n",
              "        document.querySelector('#df-57a98122-3c50-4a98-a843-6d4eb26b5b0a button.colab-df-convert');\n",
              "      buttonEl.style.display =\n",
              "        google.colab.kernel.accessAllowed ? 'block' : 'none';\n",
              "\n",
              "      async function convertToInteractive(key) {\n",
              "        const element = document.querySelector('#df-57a98122-3c50-4a98-a843-6d4eb26b5b0a');\n",
              "        const dataTable =\n",
              "          await google.colab.kernel.invokeFunction('convertToInteractive',\n",
              "                                                    [key], {});\n",
              "        if (!dataTable) return;\n",
              "\n",
              "        const docLinkHtml = 'Like what you see? Visit the ' +\n",
              "          '<a target=\"_blank\" href=https://colab.research.google.com/notebooks/data_table.ipynb>data table notebook</a>'\n",
              "          + ' to learn more about interactive tables.';\n",
              "        element.innerHTML = '';\n",
              "        dataTable['output_type'] = 'display_data';\n",
              "        await google.colab.output.renderOutput(dataTable, element);\n",
              "        const docLink = document.createElement('div');\n",
              "        docLink.innerHTML = docLinkHtml;\n",
              "        element.appendChild(docLink);\n",
              "      }\n",
              "    </script>\n",
              "  </div>\n",
              "\n",
              "\n",
              "    <div id=\"df-3f316d8e-0c5f-4914-a5ec-73f478b6689c\">\n",
              "      <button class=\"colab-df-quickchart\" onclick=\"quickchart('df-3f316d8e-0c5f-4914-a5ec-73f478b6689c')\"\n",
              "                title=\"Suggest charts\"\n",
              "                style=\"display:none;\">\n",
              "\n",
              "<svg xmlns=\"http://www.w3.org/2000/svg\" height=\"24px\"viewBox=\"0 0 24 24\"\n",
              "     width=\"24px\">\n",
              "    <g>\n",
              "        <path d=\"M19 3H5c-1.1 0-2 .9-2 2v14c0 1.1.9 2 2 2h14c1.1 0 2-.9 2-2V5c0-1.1-.9-2-2-2zM9 17H7v-7h2v7zm4 0h-2V7h2v10zm4 0h-2v-4h2v4z\"/>\n",
              "    </g>\n",
              "</svg>\n",
              "      </button>\n",
              "\n",
              "<style>\n",
              "  .colab-df-quickchart {\n",
              "      --bg-color: #E8F0FE;\n",
              "      --fill-color: #1967D2;\n",
              "      --hover-bg-color: #E2EBFA;\n",
              "      --hover-fill-color: #174EA6;\n",
              "      --disabled-fill-color: #AAA;\n",
              "      --disabled-bg-color: #DDD;\n",
              "  }\n",
              "\n",
              "  [theme=dark] .colab-df-quickchart {\n",
              "      --bg-color: #3B4455;\n",
              "      --fill-color: #D2E3FC;\n",
              "      --hover-bg-color: #434B5C;\n",
              "      --hover-fill-color: #FFFFFF;\n",
              "      --disabled-bg-color: #3B4455;\n",
              "      --disabled-fill-color: #666;\n",
              "  }\n",
              "\n",
              "  .colab-df-quickchart {\n",
              "    background-color: var(--bg-color);\n",
              "    border: none;\n",
              "    border-radius: 50%;\n",
              "    cursor: pointer;\n",
              "    display: none;\n",
              "    fill: var(--fill-color);\n",
              "    height: 32px;\n",
              "    padding: 0;\n",
              "    width: 32px;\n",
              "  }\n",
              "\n",
              "  .colab-df-quickchart:hover {\n",
              "    background-color: var(--hover-bg-color);\n",
              "    box-shadow: 0 1px 2px rgba(60, 64, 67, 0.3), 0 1px 3px 1px rgba(60, 64, 67, 0.15);\n",
              "    fill: var(--button-hover-fill-color);\n",
              "  }\n",
              "\n",
              "  .colab-df-quickchart-complete:disabled,\n",
              "  .colab-df-quickchart-complete:disabled:hover {\n",
              "    background-color: var(--disabled-bg-color);\n",
              "    fill: var(--disabled-fill-color);\n",
              "    box-shadow: none;\n",
              "  }\n",
              "\n",
              "  .colab-df-spinner {\n",
              "    border: 2px solid var(--fill-color);\n",
              "    border-color: transparent;\n",
              "    border-bottom-color: var(--fill-color);\n",
              "    animation:\n",
              "      spin 1s steps(1) infinite;\n",
              "  }\n",
              "\n",
              "  @keyframes spin {\n",
              "    0% {\n",
              "      border-color: transparent;\n",
              "      border-bottom-color: var(--fill-color);\n",
              "      border-left-color: var(--fill-color);\n",
              "    }\n",
              "    20% {\n",
              "      border-color: transparent;\n",
              "      border-left-color: var(--fill-color);\n",
              "      border-top-color: var(--fill-color);\n",
              "    }\n",
              "    30% {\n",
              "      border-color: transparent;\n",
              "      border-left-color: var(--fill-color);\n",
              "      border-top-color: var(--fill-color);\n",
              "      border-right-color: var(--fill-color);\n",
              "    }\n",
              "    40% {\n",
              "      border-color: transparent;\n",
              "      border-right-color: var(--fill-color);\n",
              "      border-top-color: var(--fill-color);\n",
              "    }\n",
              "    60% {\n",
              "      border-color: transparent;\n",
              "      border-right-color: var(--fill-color);\n",
              "    }\n",
              "    80% {\n",
              "      border-color: transparent;\n",
              "      border-right-color: var(--fill-color);\n",
              "      border-bottom-color: var(--fill-color);\n",
              "    }\n",
              "    90% {\n",
              "      border-color: transparent;\n",
              "      border-bottom-color: var(--fill-color);\n",
              "    }\n",
              "  }\n",
              "</style>\n",
              "\n",
              "      <script>\n",
              "        async function quickchart(key) {\n",
              "          const quickchartButtonEl =\n",
              "            document.querySelector('#' + key + ' button');\n",
              "          quickchartButtonEl.disabled = true;  // To prevent multiple clicks.\n",
              "          quickchartButtonEl.classList.add('colab-df-spinner');\n",
              "          try {\n",
              "            const charts = await google.colab.kernel.invokeFunction(\n",
              "                'suggestCharts', [key], {});\n",
              "          } catch (error) {\n",
              "            console.error('Error during call to suggestCharts:', error);\n",
              "          }\n",
              "          quickchartButtonEl.classList.remove('colab-df-spinner');\n",
              "          quickchartButtonEl.classList.add('colab-df-quickchart-complete');\n",
              "        }\n",
              "        (() => {\n",
              "          let quickchartButtonEl =\n",
              "            document.querySelector('#df-3f316d8e-0c5f-4914-a5ec-73f478b6689c button');\n",
              "          quickchartButtonEl.style.display =\n",
              "            google.colab.kernel.accessAllowed ? 'block' : 'none';\n",
              "        })();\n",
              "      </script>\n",
              "    </div>\n",
              "\n",
              "  <div id=\"id_819b9a7d-f47c-4ede-a2d6-ce3be25489db\">\n",
              "    <style>\n",
              "      .colab-df-generate {\n",
              "        background-color: #E8F0FE;\n",
              "        border: none;\n",
              "        border-radius: 50%;\n",
              "        cursor: pointer;\n",
              "        display: none;\n",
              "        fill: #1967D2;\n",
              "        height: 32px;\n",
              "        padding: 0 0 0 0;\n",
              "        width: 32px;\n",
              "      }\n",
              "\n",
              "      .colab-df-generate:hover {\n",
              "        background-color: #E2EBFA;\n",
              "        box-shadow: 0px 1px 2px rgba(60, 64, 67, 0.3), 0px 1px 3px 1px rgba(60, 64, 67, 0.15);\n",
              "        fill: #174EA6;\n",
              "      }\n",
              "\n",
              "      [theme=dark] .colab-df-generate {\n",
              "        background-color: #3B4455;\n",
              "        fill: #D2E3FC;\n",
              "      }\n",
              "\n",
              "      [theme=dark] .colab-df-generate:hover {\n",
              "        background-color: #434B5C;\n",
              "        box-shadow: 0px 1px 3px 1px rgba(0, 0, 0, 0.15);\n",
              "        filter: drop-shadow(0px 1px 2px rgba(0, 0, 0, 0.3));\n",
              "        fill: #FFFFFF;\n",
              "      }\n",
              "    </style>\n",
              "    <button class=\"colab-df-generate\" onclick=\"generateWithVariable('data')\"\n",
              "            title=\"Generate code using this dataframe.\"\n",
              "            style=\"display:none;\">\n",
              "\n",
              "  <svg xmlns=\"http://www.w3.org/2000/svg\" height=\"24px\"viewBox=\"0 0 24 24\"\n",
              "       width=\"24px\">\n",
              "    <path d=\"M7,19H8.4L18.45,9,17,7.55,7,17.6ZM5,21V16.75L18.45,3.32a2,2,0,0,1,2.83,0l1.4,1.43a1.91,1.91,0,0,1,.58,1.4,1.91,1.91,0,0,1-.58,1.4L9.25,21ZM18.45,9,17,7.55Zm-12,3A5.31,5.31,0,0,0,4.9,8.1,5.31,5.31,0,0,0,1,6.5,5.31,5.31,0,0,0,4.9,4.9,5.31,5.31,0,0,0,6.5,1,5.31,5.31,0,0,0,8.1,4.9,5.31,5.31,0,0,0,12,6.5,5.46,5.46,0,0,0,6.5,12Z\"/>\n",
              "  </svg>\n",
              "    </button>\n",
              "    <script>\n",
              "      (() => {\n",
              "      const buttonEl =\n",
              "        document.querySelector('#id_819b9a7d-f47c-4ede-a2d6-ce3be25489db button.colab-df-generate');\n",
              "      buttonEl.style.display =\n",
              "        google.colab.kernel.accessAllowed ? 'block' : 'none';\n",
              "\n",
              "      buttonEl.onclick = () => {\n",
              "        google.colab.notebook.generateWithVariable('data');\n",
              "      }\n",
              "      })();\n",
              "    </script>\n",
              "  </div>\n",
              "\n",
              "    </div>\n",
              "  </div>\n"
            ],
            "application/vnd.google.colaboratory.intrinsic+json": {
              "type": "dataframe",
              "variable_name": "data",
              "summary": "{\n  \"name\": \"data\",\n  \"rows\": 1499,\n  \"fields\": [\n    {\n      \"column\": \"Tanggal\",\n      \"properties\": {\n        \"dtype\": \"object\",\n        \"num_unique_values\": 1499,\n        \"samples\": [\n          \"2023-07-14\",\n          \"2024-09-12\",\n          \"2020-09-04\"\n        ],\n        \"semantic_type\": \"\",\n        \"description\": \"\"\n      }\n    },\n    {\n      \"column\": \"Harga Buka\",\n      \"properties\": {\n        \"dtype\": \"number\",\n        \"std\": 1002.9400951152653,\n        \"min\": 1580.0,\n        \"max\": 6225.0,\n        \"num_unique_values\": 360,\n        \"samples\": [\n          2950.0,\n          4950.0,\n          4860.0\n        ],\n        \"semantic_type\": \"\",\n        \"description\": \"\"\n      }\n    },\n    {\n      \"column\": \"Harga Tertinggi \",\n      \"properties\": {\n        \"dtype\": \"number\",\n        \"std\": 1007.1466854945689,\n        \"min\": 1705.0,\n        \"max\": 6250.0,\n        \"num_unique_values\": 366,\n        \"samples\": [\n          2475.0,\n          4850.0,\n          4637.5\n        ],\n        \"semantic_type\": \"\",\n        \"description\": \"\"\n      }\n    },\n    {\n      \"column\": \"Harga Terendah\",\n      \"properties\": {\n        \"dtype\": \"number\",\n        \"std\": 998.1523612844211,\n        \"min\": 1485.0,\n        \"max\": 6100.0,\n        \"num_unique_values\": 379,\n        \"samples\": [\n          5162.5,\n          4725.0,\n          5850.0\n        ],\n        \"semantic_type\": \"\",\n        \"description\": \"\"\n      }\n    },\n    {\n      \"column\": \"Harga Tutup\",\n      \"properties\": {\n        \"dtype\": \"number\",\n        \"std\": 1002.7848125554171,\n        \"min\": 1580.0,\n        \"max\": 6225.0,\n        \"num_unique_values\": 377,\n        \"samples\": [\n          5100.0,\n          3587.5,\n          3312.5\n        ],\n        \"semantic_type\": \"\",\n        \"description\": \"\"\n      }\n    },\n    {\n      \"column\": \"Harga Penutupan Disesuaikan\",\n      \"properties\": {\n        \"dtype\": \"number\",\n        \"std\": 1040.4759872156503,\n        \"min\": 1408.5814208984,\n        \"max\": 5950.0,\n        \"num_unique_values\": 635,\n        \"samples\": [\n          5368.44921875,\n          2663.3779296875,\n          3957.0783691406\n        ],\n        \"semantic_type\": \"\",\n        \"description\": \"\"\n      }\n    },\n    {\n      \"column\": \"Volume Perdagangan\",\n      \"properties\": {\n        \"dtype\": \"number\",\n        \"std\": 49073648,\n        \"min\": 0,\n        \"max\": 444085400,\n        \"num_unique_values\": 1485,\n        \"samples\": [\n          21892000,\n          48203400,\n          32195200\n        ],\n        \"semantic_type\": \"\",\n        \"description\": \"\"\n      }\n    }\n  ]\n}"
            }
          },
          "metadata": {},
          "execution_count": 56
        }
      ]
    },
    {
      "cell_type": "code",
      "source": [
        "data.info()"
      ],
      "metadata": {
        "colab": {
          "base_uri": "https://localhost:8080/"
        },
        "id": "d4J5Y55EasLV",
        "outputId": "67471787-2371-497d-fc4c-c091e19ea179"
      },
      "execution_count": 57,
      "outputs": [
        {
          "output_type": "stream",
          "name": "stdout",
          "text": [
            "<class 'pandas.core.frame.DataFrame'>\n",
            "RangeIndex: 1499 entries, 0 to 1498\n",
            "Data columns (total 7 columns):\n",
            " #   Column                       Non-Null Count  Dtype  \n",
            "---  ------                       --------------  -----  \n",
            " 0   Tanggal                      1499 non-null   object \n",
            " 1   Harga Buka                   1499 non-null   float64\n",
            " 2   Harga Tertinggi              1499 non-null   float64\n",
            " 3   Harga Terendah               1499 non-null   float64\n",
            " 4   Harga Tutup                  1499 non-null   float64\n",
            " 5   Harga Penutupan Disesuaikan  1499 non-null   float64\n",
            " 6   Volume Perdagangan           1499 non-null   int64  \n",
            "dtypes: float64(5), int64(1), object(1)\n",
            "memory usage: 82.1+ KB\n"
          ]
        }
      ]
    },
    {
      "cell_type": "markdown",
      "source": [
        "# Missing Value"
      ],
      "metadata": {
        "id": "ON6qteXybbQ-"
      }
    },
    {
      "cell_type": "code",
      "source": [
        "data.isnull().sum()"
      ],
      "metadata": {
        "colab": {
          "base_uri": "https://localhost:8080/",
          "height": 304
        },
        "id": "z6RkG7sAbVRw",
        "outputId": "81a25a66-5352-4941-c443-baaf61947a31"
      },
      "execution_count": 58,
      "outputs": [
        {
          "output_type": "execute_result",
          "data": {
            "text/plain": [
              "Tanggal                        0\n",
              "Harga Buka                     0\n",
              "Harga Tertinggi                0\n",
              "Harga Terendah                 0\n",
              "Harga Tutup                    0\n",
              "Harga Penutupan Disesuaikan    0\n",
              "Volume Perdagangan             0\n",
              "dtype: int64"
            ],
            "text/html": [
              "<div>\n",
              "<style scoped>\n",
              "    .dataframe tbody tr th:only-of-type {\n",
              "        vertical-align: middle;\n",
              "    }\n",
              "\n",
              "    .dataframe tbody tr th {\n",
              "        vertical-align: top;\n",
              "    }\n",
              "\n",
              "    .dataframe thead th {\n",
              "        text-align: right;\n",
              "    }\n",
              "</style>\n",
              "<table border=\"1\" class=\"dataframe\">\n",
              "  <thead>\n",
              "    <tr style=\"text-align: right;\">\n",
              "      <th></th>\n",
              "      <th>0</th>\n",
              "    </tr>\n",
              "  </thead>\n",
              "  <tbody>\n",
              "    <tr>\n",
              "      <th>Tanggal</th>\n",
              "      <td>0</td>\n",
              "    </tr>\n",
              "    <tr>\n",
              "      <th>Harga Buka</th>\n",
              "      <td>0</td>\n",
              "    </tr>\n",
              "    <tr>\n",
              "      <th>Harga Tertinggi</th>\n",
              "      <td>0</td>\n",
              "    </tr>\n",
              "    <tr>\n",
              "      <th>Harga Terendah</th>\n",
              "      <td>0</td>\n",
              "    </tr>\n",
              "    <tr>\n",
              "      <th>Harga Tutup</th>\n",
              "      <td>0</td>\n",
              "    </tr>\n",
              "    <tr>\n",
              "      <th>Harga Penutupan Disesuaikan</th>\n",
              "      <td>0</td>\n",
              "    </tr>\n",
              "    <tr>\n",
              "      <th>Volume Perdagangan</th>\n",
              "      <td>0</td>\n",
              "    </tr>\n",
              "  </tbody>\n",
              "</table>\n",
              "</div><br><label><b>dtype:</b> int64</label>"
            ]
          },
          "metadata": {},
          "execution_count": 58
        }
      ]
    },
    {
      "cell_type": "markdown",
      "source": [
        "# Pre-Processing"
      ],
      "metadata": {
        "id": "-PEcC_3QcjDe"
      }
    },
    {
      "cell_type": "code",
      "source": [
        "df['Tanggal'] = pd.to_datetime(df['Tanggal'])\n",
        "df = df.sort_values('Tanggal')"
      ],
      "metadata": {
        "id": "xjhn-h9TeEzF"
      },
      "execution_count": 59,
      "outputs": []
    },
    {
      "cell_type": "code",
      "source": [
        "df['Close_Lag1'] = df['Harga Tutup'].shift(1)\n",
        "df['Volume_Lag1'] = df['Volume Perdagangan'].shift(1)\n",
        "df['Rolling_Close_7'] = df['Harga Tutup'].rolling(window=7).mean()"
      ],
      "metadata": {
        "id": "ZccCtDbGeGTt"
      },
      "execution_count": 60,
      "outputs": []
    },
    {
      "cell_type": "code",
      "source": [
        "df.dropna(inplace=True)"
      ],
      "metadata": {
        "id": "DIDM3RY0eIel"
      },
      "execution_count": 61,
      "outputs": []
    },
    {
      "cell_type": "code",
      "source": [
        "print(df.columns)\n",
        "df.columns = df.columns.str.strip()  # Menghapus spasi di awal dan akhir nama kolom\n",
        "\n",
        "X = df[['Harga Buka', 'Harga Terendah', 'Harga Tutup', 'Close_Lag1', 'Volume_Lag1', 'Rolling_Close_7']]\n",
        "y = df['Harga Tutup']"
      ],
      "metadata": {
        "colab": {
          "base_uri": "https://localhost:8080/"
        },
        "id": "OkI3dBtZeVn-",
        "outputId": "819c2ef8-a9d9-4097-88b7-c1c6c42b1a13"
      },
      "execution_count": 62,
      "outputs": [
        {
          "output_type": "stream",
          "name": "stdout",
          "text": [
            "Index(['Tanggal', 'Harga Buka', 'Harga Tertinggi', 'Harga Terendah',\n",
            "       'Harga Tutup', 'Harga Penutupan Disesuaikan', 'Volume Perdagangan',\n",
            "       'Close_Lag1', 'Volume_Lag1', 'Rolling_Close_7'],\n",
            "      dtype='object')\n"
          ]
        }
      ]
    },
    {
      "cell_type": "markdown",
      "source": [
        "# Split Data"
      ],
      "metadata": {
        "id": "oPeTd7qgemKN"
      }
    },
    {
      "cell_type": "code",
      "source": [
        "X_train, X_test, y_train, y_test = train_test_split(X, y, test_size=0.2, shuffle=False)"
      ],
      "metadata": {
        "id": "b7cv0sASek5W"
      },
      "execution_count": 63,
      "outputs": []
    },
    {
      "cell_type": "markdown",
      "source": [
        "# Normalisasi Fitur dan Target"
      ],
      "metadata": {
        "id": "Zdnty9VZeqP6"
      }
    },
    {
      "cell_type": "code",
      "source": [
        "scaler_X = StandardScaler()\n",
        "scaler_y = StandardScaler()\n",
        "\n",
        "X_train_scaled = scaler_X.fit_transform(X_train)\n",
        "X_test_scaled = scaler_X.transform(X_test)\n",
        "y_train_scaled = scaler_y.fit_transform(y_train.values.reshape(-1, 1)).ravel()"
      ],
      "metadata": {
        "id": "Uf2w-ZrMeuG-"
      },
      "execution_count": 64,
      "outputs": []
    },
    {
      "cell_type": "markdown",
      "source": [
        "# Train model SVR"
      ],
      "metadata": {
        "id": "UgsIWHMYf4rc"
      }
    },
    {
      "cell_type": "code",
      "source": [
        "svr_model = SVR(kernel='rbf', C=100, epsilon=0.1)\n",
        "svr_model.fit(X_train_scaled, y_train_scaled)"
      ],
      "metadata": {
        "colab": {
          "base_uri": "https://localhost:8080/",
          "height": 81
        },
        "id": "0FEaC8TgewRS",
        "outputId": "f1fbc768-bb22-46c0-cf07-e79adba29060"
      },
      "execution_count": 65,
      "outputs": [
        {
          "output_type": "execute_result",
          "data": {
            "text/plain": [
              "SVR(C=100)"
            ],
            "text/html": [
              "<style>#sk-container-id-2 {\n",
              "  /* Definition of color scheme common for light and dark mode */\n",
              "  --sklearn-color-text: #000;\n",
              "  --sklearn-color-text-muted: #666;\n",
              "  --sklearn-color-line: gray;\n",
              "  /* Definition of color scheme for unfitted estimators */\n",
              "  --sklearn-color-unfitted-level-0: #fff5e6;\n",
              "  --sklearn-color-unfitted-level-1: #f6e4d2;\n",
              "  --sklearn-color-unfitted-level-2: #ffe0b3;\n",
              "  --sklearn-color-unfitted-level-3: chocolate;\n",
              "  /* Definition of color scheme for fitted estimators */\n",
              "  --sklearn-color-fitted-level-0: #f0f8ff;\n",
              "  --sklearn-color-fitted-level-1: #d4ebff;\n",
              "  --sklearn-color-fitted-level-2: #b3dbfd;\n",
              "  --sklearn-color-fitted-level-3: cornflowerblue;\n",
              "\n",
              "  /* Specific color for light theme */\n",
              "  --sklearn-color-text-on-default-background: var(--sg-text-color, var(--theme-code-foreground, var(--jp-content-font-color1, black)));\n",
              "  --sklearn-color-background: var(--sg-background-color, var(--theme-background, var(--jp-layout-color0, white)));\n",
              "  --sklearn-color-border-box: var(--sg-text-color, var(--theme-code-foreground, var(--jp-content-font-color1, black)));\n",
              "  --sklearn-color-icon: #696969;\n",
              "\n",
              "  @media (prefers-color-scheme: dark) {\n",
              "    /* Redefinition of color scheme for dark theme */\n",
              "    --sklearn-color-text-on-default-background: var(--sg-text-color, var(--theme-code-foreground, var(--jp-content-font-color1, white)));\n",
              "    --sklearn-color-background: var(--sg-background-color, var(--theme-background, var(--jp-layout-color0, #111)));\n",
              "    --sklearn-color-border-box: var(--sg-text-color, var(--theme-code-foreground, var(--jp-content-font-color1, white)));\n",
              "    --sklearn-color-icon: #878787;\n",
              "  }\n",
              "}\n",
              "\n",
              "#sk-container-id-2 {\n",
              "  color: var(--sklearn-color-text);\n",
              "}\n",
              "\n",
              "#sk-container-id-2 pre {\n",
              "  padding: 0;\n",
              "}\n",
              "\n",
              "#sk-container-id-2 input.sk-hidden--visually {\n",
              "  border: 0;\n",
              "  clip: rect(1px 1px 1px 1px);\n",
              "  clip: rect(1px, 1px, 1px, 1px);\n",
              "  height: 1px;\n",
              "  margin: -1px;\n",
              "  overflow: hidden;\n",
              "  padding: 0;\n",
              "  position: absolute;\n",
              "  width: 1px;\n",
              "}\n",
              "\n",
              "#sk-container-id-2 div.sk-dashed-wrapped {\n",
              "  border: 1px dashed var(--sklearn-color-line);\n",
              "  margin: 0 0.4em 0.5em 0.4em;\n",
              "  box-sizing: border-box;\n",
              "  padding-bottom: 0.4em;\n",
              "  background-color: var(--sklearn-color-background);\n",
              "}\n",
              "\n",
              "#sk-container-id-2 div.sk-container {\n",
              "  /* jupyter's `normalize.less` sets `[hidden] { display: none; }`\n",
              "     but bootstrap.min.css set `[hidden] { display: none !important; }`\n",
              "     so we also need the `!important` here to be able to override the\n",
              "     default hidden behavior on the sphinx rendered scikit-learn.org.\n",
              "     See: https://github.com/scikit-learn/scikit-learn/issues/21755 */\n",
              "  display: inline-block !important;\n",
              "  position: relative;\n",
              "}\n",
              "\n",
              "#sk-container-id-2 div.sk-text-repr-fallback {\n",
              "  display: none;\n",
              "}\n",
              "\n",
              "div.sk-parallel-item,\n",
              "div.sk-serial,\n",
              "div.sk-item {\n",
              "  /* draw centered vertical line to link estimators */\n",
              "  background-image: linear-gradient(var(--sklearn-color-text-on-default-background), var(--sklearn-color-text-on-default-background));\n",
              "  background-size: 2px 100%;\n",
              "  background-repeat: no-repeat;\n",
              "  background-position: center center;\n",
              "}\n",
              "\n",
              "/* Parallel-specific style estimator block */\n",
              "\n",
              "#sk-container-id-2 div.sk-parallel-item::after {\n",
              "  content: \"\";\n",
              "  width: 100%;\n",
              "  border-bottom: 2px solid var(--sklearn-color-text-on-default-background);\n",
              "  flex-grow: 1;\n",
              "}\n",
              "\n",
              "#sk-container-id-2 div.sk-parallel {\n",
              "  display: flex;\n",
              "  align-items: stretch;\n",
              "  justify-content: center;\n",
              "  background-color: var(--sklearn-color-background);\n",
              "  position: relative;\n",
              "}\n",
              "\n",
              "#sk-container-id-2 div.sk-parallel-item {\n",
              "  display: flex;\n",
              "  flex-direction: column;\n",
              "}\n",
              "\n",
              "#sk-container-id-2 div.sk-parallel-item:first-child::after {\n",
              "  align-self: flex-end;\n",
              "  width: 50%;\n",
              "}\n",
              "\n",
              "#sk-container-id-2 div.sk-parallel-item:last-child::after {\n",
              "  align-self: flex-start;\n",
              "  width: 50%;\n",
              "}\n",
              "\n",
              "#sk-container-id-2 div.sk-parallel-item:only-child::after {\n",
              "  width: 0;\n",
              "}\n",
              "\n",
              "/* Serial-specific style estimator block */\n",
              "\n",
              "#sk-container-id-2 div.sk-serial {\n",
              "  display: flex;\n",
              "  flex-direction: column;\n",
              "  align-items: center;\n",
              "  background-color: var(--sklearn-color-background);\n",
              "  padding-right: 1em;\n",
              "  padding-left: 1em;\n",
              "}\n",
              "\n",
              "\n",
              "/* Toggleable style: style used for estimator/Pipeline/ColumnTransformer box that is\n",
              "clickable and can be expanded/collapsed.\n",
              "- Pipeline and ColumnTransformer use this feature and define the default style\n",
              "- Estimators will overwrite some part of the style using the `sk-estimator` class\n",
              "*/\n",
              "\n",
              "/* Pipeline and ColumnTransformer style (default) */\n",
              "\n",
              "#sk-container-id-2 div.sk-toggleable {\n",
              "  /* Default theme specific background. It is overwritten whether we have a\n",
              "  specific estimator or a Pipeline/ColumnTransformer */\n",
              "  background-color: var(--sklearn-color-background);\n",
              "}\n",
              "\n",
              "/* Toggleable label */\n",
              "#sk-container-id-2 label.sk-toggleable__label {\n",
              "  cursor: pointer;\n",
              "  display: flex;\n",
              "  width: 100%;\n",
              "  margin-bottom: 0;\n",
              "  padding: 0.5em;\n",
              "  box-sizing: border-box;\n",
              "  text-align: center;\n",
              "  align-items: start;\n",
              "  justify-content: space-between;\n",
              "  gap: 0.5em;\n",
              "}\n",
              "\n",
              "#sk-container-id-2 label.sk-toggleable__label .caption {\n",
              "  font-size: 0.6rem;\n",
              "  font-weight: lighter;\n",
              "  color: var(--sklearn-color-text-muted);\n",
              "}\n",
              "\n",
              "#sk-container-id-2 label.sk-toggleable__label-arrow:before {\n",
              "  /* Arrow on the left of the label */\n",
              "  content: \"▸\";\n",
              "  float: left;\n",
              "  margin-right: 0.25em;\n",
              "  color: var(--sklearn-color-icon);\n",
              "}\n",
              "\n",
              "#sk-container-id-2 label.sk-toggleable__label-arrow:hover:before {\n",
              "  color: var(--sklearn-color-text);\n",
              "}\n",
              "\n",
              "/* Toggleable content - dropdown */\n",
              "\n",
              "#sk-container-id-2 div.sk-toggleable__content {\n",
              "  max-height: 0;\n",
              "  max-width: 0;\n",
              "  overflow: hidden;\n",
              "  text-align: left;\n",
              "  /* unfitted */\n",
              "  background-color: var(--sklearn-color-unfitted-level-0);\n",
              "}\n",
              "\n",
              "#sk-container-id-2 div.sk-toggleable__content.fitted {\n",
              "  /* fitted */\n",
              "  background-color: var(--sklearn-color-fitted-level-0);\n",
              "}\n",
              "\n",
              "#sk-container-id-2 div.sk-toggleable__content pre {\n",
              "  margin: 0.2em;\n",
              "  border-radius: 0.25em;\n",
              "  color: var(--sklearn-color-text);\n",
              "  /* unfitted */\n",
              "  background-color: var(--sklearn-color-unfitted-level-0);\n",
              "}\n",
              "\n",
              "#sk-container-id-2 div.sk-toggleable__content.fitted pre {\n",
              "  /* unfitted */\n",
              "  background-color: var(--sklearn-color-fitted-level-0);\n",
              "}\n",
              "\n",
              "#sk-container-id-2 input.sk-toggleable__control:checked~div.sk-toggleable__content {\n",
              "  /* Expand drop-down */\n",
              "  max-height: 200px;\n",
              "  max-width: 100%;\n",
              "  overflow: auto;\n",
              "}\n",
              "\n",
              "#sk-container-id-2 input.sk-toggleable__control:checked~label.sk-toggleable__label-arrow:before {\n",
              "  content: \"▾\";\n",
              "}\n",
              "\n",
              "/* Pipeline/ColumnTransformer-specific style */\n",
              "\n",
              "#sk-container-id-2 div.sk-label input.sk-toggleable__control:checked~label.sk-toggleable__label {\n",
              "  color: var(--sklearn-color-text);\n",
              "  background-color: var(--sklearn-color-unfitted-level-2);\n",
              "}\n",
              "\n",
              "#sk-container-id-2 div.sk-label.fitted input.sk-toggleable__control:checked~label.sk-toggleable__label {\n",
              "  background-color: var(--sklearn-color-fitted-level-2);\n",
              "}\n",
              "\n",
              "/* Estimator-specific style */\n",
              "\n",
              "/* Colorize estimator box */\n",
              "#sk-container-id-2 div.sk-estimator input.sk-toggleable__control:checked~label.sk-toggleable__label {\n",
              "  /* unfitted */\n",
              "  background-color: var(--sklearn-color-unfitted-level-2);\n",
              "}\n",
              "\n",
              "#sk-container-id-2 div.sk-estimator.fitted input.sk-toggleable__control:checked~label.sk-toggleable__label {\n",
              "  /* fitted */\n",
              "  background-color: var(--sklearn-color-fitted-level-2);\n",
              "}\n",
              "\n",
              "#sk-container-id-2 div.sk-label label.sk-toggleable__label,\n",
              "#sk-container-id-2 div.sk-label label {\n",
              "  /* The background is the default theme color */\n",
              "  color: var(--sklearn-color-text-on-default-background);\n",
              "}\n",
              "\n",
              "/* On hover, darken the color of the background */\n",
              "#sk-container-id-2 div.sk-label:hover label.sk-toggleable__label {\n",
              "  color: var(--sklearn-color-text);\n",
              "  background-color: var(--sklearn-color-unfitted-level-2);\n",
              "}\n",
              "\n",
              "/* Label box, darken color on hover, fitted */\n",
              "#sk-container-id-2 div.sk-label.fitted:hover label.sk-toggleable__label.fitted {\n",
              "  color: var(--sklearn-color-text);\n",
              "  background-color: var(--sklearn-color-fitted-level-2);\n",
              "}\n",
              "\n",
              "/* Estimator label */\n",
              "\n",
              "#sk-container-id-2 div.sk-label label {\n",
              "  font-family: monospace;\n",
              "  font-weight: bold;\n",
              "  display: inline-block;\n",
              "  line-height: 1.2em;\n",
              "}\n",
              "\n",
              "#sk-container-id-2 div.sk-label-container {\n",
              "  text-align: center;\n",
              "}\n",
              "\n",
              "/* Estimator-specific */\n",
              "#sk-container-id-2 div.sk-estimator {\n",
              "  font-family: monospace;\n",
              "  border: 1px dotted var(--sklearn-color-border-box);\n",
              "  border-radius: 0.25em;\n",
              "  box-sizing: border-box;\n",
              "  margin-bottom: 0.5em;\n",
              "  /* unfitted */\n",
              "  background-color: var(--sklearn-color-unfitted-level-0);\n",
              "}\n",
              "\n",
              "#sk-container-id-2 div.sk-estimator.fitted {\n",
              "  /* fitted */\n",
              "  background-color: var(--sklearn-color-fitted-level-0);\n",
              "}\n",
              "\n",
              "/* on hover */\n",
              "#sk-container-id-2 div.sk-estimator:hover {\n",
              "  /* unfitted */\n",
              "  background-color: var(--sklearn-color-unfitted-level-2);\n",
              "}\n",
              "\n",
              "#sk-container-id-2 div.sk-estimator.fitted:hover {\n",
              "  /* fitted */\n",
              "  background-color: var(--sklearn-color-fitted-level-2);\n",
              "}\n",
              "\n",
              "/* Specification for estimator info (e.g. \"i\" and \"?\") */\n",
              "\n",
              "/* Common style for \"i\" and \"?\" */\n",
              "\n",
              ".sk-estimator-doc-link,\n",
              "a:link.sk-estimator-doc-link,\n",
              "a:visited.sk-estimator-doc-link {\n",
              "  float: right;\n",
              "  font-size: smaller;\n",
              "  line-height: 1em;\n",
              "  font-family: monospace;\n",
              "  background-color: var(--sklearn-color-background);\n",
              "  border-radius: 1em;\n",
              "  height: 1em;\n",
              "  width: 1em;\n",
              "  text-decoration: none !important;\n",
              "  margin-left: 0.5em;\n",
              "  text-align: center;\n",
              "  /* unfitted */\n",
              "  border: var(--sklearn-color-unfitted-level-1) 1pt solid;\n",
              "  color: var(--sklearn-color-unfitted-level-1);\n",
              "}\n",
              "\n",
              ".sk-estimator-doc-link.fitted,\n",
              "a:link.sk-estimator-doc-link.fitted,\n",
              "a:visited.sk-estimator-doc-link.fitted {\n",
              "  /* fitted */\n",
              "  border: var(--sklearn-color-fitted-level-1) 1pt solid;\n",
              "  color: var(--sklearn-color-fitted-level-1);\n",
              "}\n",
              "\n",
              "/* On hover */\n",
              "div.sk-estimator:hover .sk-estimator-doc-link:hover,\n",
              ".sk-estimator-doc-link:hover,\n",
              "div.sk-label-container:hover .sk-estimator-doc-link:hover,\n",
              ".sk-estimator-doc-link:hover {\n",
              "  /* unfitted */\n",
              "  background-color: var(--sklearn-color-unfitted-level-3);\n",
              "  color: var(--sklearn-color-background);\n",
              "  text-decoration: none;\n",
              "}\n",
              "\n",
              "div.sk-estimator.fitted:hover .sk-estimator-doc-link.fitted:hover,\n",
              ".sk-estimator-doc-link.fitted:hover,\n",
              "div.sk-label-container:hover .sk-estimator-doc-link.fitted:hover,\n",
              ".sk-estimator-doc-link.fitted:hover {\n",
              "  /* fitted */\n",
              "  background-color: var(--sklearn-color-fitted-level-3);\n",
              "  color: var(--sklearn-color-background);\n",
              "  text-decoration: none;\n",
              "}\n",
              "\n",
              "/* Span, style for the box shown on hovering the info icon */\n",
              ".sk-estimator-doc-link span {\n",
              "  display: none;\n",
              "  z-index: 9999;\n",
              "  position: relative;\n",
              "  font-weight: normal;\n",
              "  right: .2ex;\n",
              "  padding: .5ex;\n",
              "  margin: .5ex;\n",
              "  width: min-content;\n",
              "  min-width: 20ex;\n",
              "  max-width: 50ex;\n",
              "  color: var(--sklearn-color-text);\n",
              "  box-shadow: 2pt 2pt 4pt #999;\n",
              "  /* unfitted */\n",
              "  background: var(--sklearn-color-unfitted-level-0);\n",
              "  border: .5pt solid var(--sklearn-color-unfitted-level-3);\n",
              "}\n",
              "\n",
              ".sk-estimator-doc-link.fitted span {\n",
              "  /* fitted */\n",
              "  background: var(--sklearn-color-fitted-level-0);\n",
              "  border: var(--sklearn-color-fitted-level-3);\n",
              "}\n",
              "\n",
              ".sk-estimator-doc-link:hover span {\n",
              "  display: block;\n",
              "}\n",
              "\n",
              "/* \"?\"-specific style due to the `<a>` HTML tag */\n",
              "\n",
              "#sk-container-id-2 a.estimator_doc_link {\n",
              "  float: right;\n",
              "  font-size: 1rem;\n",
              "  line-height: 1em;\n",
              "  font-family: monospace;\n",
              "  background-color: var(--sklearn-color-background);\n",
              "  border-radius: 1rem;\n",
              "  height: 1rem;\n",
              "  width: 1rem;\n",
              "  text-decoration: none;\n",
              "  /* unfitted */\n",
              "  color: var(--sklearn-color-unfitted-level-1);\n",
              "  border: var(--sklearn-color-unfitted-level-1) 1pt solid;\n",
              "}\n",
              "\n",
              "#sk-container-id-2 a.estimator_doc_link.fitted {\n",
              "  /* fitted */\n",
              "  border: var(--sklearn-color-fitted-level-1) 1pt solid;\n",
              "  color: var(--sklearn-color-fitted-level-1);\n",
              "}\n",
              "\n",
              "/* On hover */\n",
              "#sk-container-id-2 a.estimator_doc_link:hover {\n",
              "  /* unfitted */\n",
              "  background-color: var(--sklearn-color-unfitted-level-3);\n",
              "  color: var(--sklearn-color-background);\n",
              "  text-decoration: none;\n",
              "}\n",
              "\n",
              "#sk-container-id-2 a.estimator_doc_link.fitted:hover {\n",
              "  /* fitted */\n",
              "  background-color: var(--sklearn-color-fitted-level-3);\n",
              "}\n",
              "</style><div id=\"sk-container-id-2\" class=\"sk-top-container\"><div class=\"sk-text-repr-fallback\"><pre>SVR(C=100)</pre><b>In a Jupyter environment, please rerun this cell to show the HTML representation or trust the notebook. <br />On GitHub, the HTML representation is unable to render, please try loading this page with nbviewer.org.</b></div><div class=\"sk-container\" hidden><div class=\"sk-item\"><div class=\"sk-estimator fitted sk-toggleable\"><input class=\"sk-toggleable__control sk-hidden--visually\" id=\"sk-estimator-id-2\" type=\"checkbox\" checked><label for=\"sk-estimator-id-2\" class=\"sk-toggleable__label fitted sk-toggleable__label-arrow\"><div><div>SVR</div></div><div><a class=\"sk-estimator-doc-link fitted\" rel=\"noreferrer\" target=\"_blank\" href=\"https://scikit-learn.org/1.6/modules/generated/sklearn.svm.SVR.html\">?<span>Documentation for SVR</span></a><span class=\"sk-estimator-doc-link fitted\">i<span>Fitted</span></span></div></label><div class=\"sk-toggleable__content fitted\"><pre>SVR(C=100)</pre></div> </div></div></div></div>"
            ]
          },
          "metadata": {},
          "execution_count": 65
        }
      ]
    },
    {
      "cell_type": "markdown",
      "source": [
        "# Prediksi"
      ],
      "metadata": {
        "id": "XVCBSZ4Dfy3J"
      }
    },
    {
      "cell_type": "code",
      "source": [
        "y_pred_scaled = svr_model.predict(X_test_scaled)\n",
        "y_pred = scaler_y.inverse_transform(y_pred_scaled.reshape(-1, 1)).ravel()"
      ],
      "metadata": {
        "id": "hHj9VvHley0O"
      },
      "execution_count": 66,
      "outputs": []
    },
    {
      "cell_type": "markdown",
      "source": [
        "# Evaluasi Model SVR"
      ],
      "metadata": {
        "id": "1Yw4qoJifvpY"
      }
    },
    {
      "cell_type": "code",
      "source": [
        "mae = mean_absolute_error(y_test, y_pred)\n",
        "rmse = np.sqrt(mean_squared_error(y_test, y_pred))\n",
        "r2 = r2_score(y_test, y_pred)"
      ],
      "metadata": {
        "id": "SxmtX7xGe1EN"
      },
      "execution_count": 67,
      "outputs": []
    },
    {
      "cell_type": "code",
      "source": [
        "print(\"📊 Evaluasi Model SVR:\")\n",
        "print(f\"MAE  : {mae:.2f}\")\n",
        "print(f\"RMSE : {rmse:.2f}\")\n",
        "print(f\"R²    : {r2:.4f}\")"
      ],
      "metadata": {
        "colab": {
          "base_uri": "https://localhost:8080/"
        },
        "id": "QIf1Qtg_e3FF",
        "outputId": "0fe187e2-242a-49c3-8b6e-2a6d2b2b3f61"
      },
      "execution_count": 68,
      "outputs": [
        {
          "output_type": "stream",
          "name": "stdout",
          "text": [
            "📊 Evaluasi Model SVR:\n",
            "MAE  : 326.97\n",
            "RMSE : 560.97\n",
            "R²    : -0.3695\n"
          ]
        }
      ]
    },
    {
      "cell_type": "markdown",
      "source": [
        "**Hasil evaluasi model SVR** (Support Vector Regression) menunjukkan bahwa model memiliki performa yang buruk:\n",
        "\n",
        "\n",
        "\n",
        "*   MAE (Mean Absolute Error) = 326.97: Rata-rata kesalahan prediksi sebesar ~Rp327, yang cukup besar tergantung skala harga tiket.\n",
        "*   RMSE (Root Mean Square Error) = 560.97: Nilai ini lebih sensitif terhadap outlier dan juga cukup tinggi.\n",
        "*   R² (Koefisien Determinasi) = -0.3695: Nilai negatif menunjukkan bahwa model lebih buruk dibandingkan model rata-rata (baseline). Artinya, model ini gagal menangkap pola dalam data.\n",
        "\n",
        "**Solusi :**\n",
        "Tuning hyperparameter seperti C, epsilon, dan kernel."
      ],
      "metadata": {
        "id": "TSekcOW4haa5"
      }
    },
    {
      "cell_type": "code",
      "source": [
        "plt.figure(figsize=(14,6))\n",
        "plt.plot(df['Tanggal'].iloc[-len(y_test):], y_test.values, label='Aktual')\n",
        "plt.plot(df['Tanggal'].iloc[-len(y_test):], y_pred, label='Prediksi SVR', linestyle='--')\n",
        "plt.xlabel(\"Tanggal\")\n",
        "plt.ylabel(\"Harga Saham (Rupiah)\")\n",
        "plt.title(\"Prediksi Harga Saham BNI menggunakan SVR\")\n",
        "plt.legend()\n",
        "plt.grid(True)\n",
        "plt.show()"
      ],
      "metadata": {
        "colab": {
          "base_uri": "https://localhost:8080/",
          "height": 564
        },
        "id": "N1yxOxhSe6VH",
        "outputId": "d3cc991b-d0a5-4d17-c87c-c6947436160d"
      },
      "execution_count": 69,
      "outputs": [
        {
          "output_type": "display_data",
          "data": {
            "text/plain": [
              "<Figure size 1400x600 with 1 Axes>"
            ],
            "image/png": "[encoded data removed]"
          },
          "metadata": {}
        }
      ]
    },
    {
      "cell_type": "markdown",
      "source": [
        "Grafik prediksi harga saham BNI menggunakan model Support Vector Regression (SVR), yang membandingkan antara harga saham aktual (garis biru) dan harga saham hasil prediksi SVR (garis oranye putus-putus) dalam rentang waktu dari sekitar November 2023 hingga Februari 2025.\n",
        "\n",
        "**Penjelasan:**\n",
        "\n",
        "**1. Garis Biru (Aktual):**\n",
        "  * Mewakili harga saham BNI sebenarnya dari waktu ke waktu.\n",
        "  * Terlihat fluktuasi yang signifikan, dengan beberapa puncak dan lembah—menunjukkan dinamika pasar saham.\n",
        "\n",
        "**2. Garis Oranye Putus-putus (Prediksi SVR):**\n",
        "\n",
        "  * Mewakili hasil prediksi harga saham oleh model SVR.\n",
        "\n",
        "  * Terlihat bahwa garis ini tidak mengikuti pola fluktuasi aktual dengan baik, terutama pada bagian-bagian saat harga naik atau turun tajam.\n",
        "\n",
        "  * Cenderung lebih halus dan kurang responsif terhadap perubahan mendadak (karakteristik umum SVR yang tidak dilatih optimal).\n",
        "\n",
        "**3. Kinerja Model (berdasarkan grafik dan metrik sebelumnya):**\n",
        "\n",
        "  * Prediksi SVR tampak kurang akurat, terutama di bagian tengah dan awal grafik (sekitar awal 2024 hingga pertengahan 2024), di mana harga aktual naik drastis tapi prediksi tidak mengikutinya.\n",
        "\n",
        "  * Hal ini sejalan dengan nilai R² negatif (-0.3695), yang menunjukkan bahwa model gagal menangkap variabilitas data aktual.\n",
        "\n",
        "**4. Kemungkinan Penyebab:**\n",
        "\n",
        "  * Data input tidak distandarisasi (SVR sangat peka terhadap skala fitur).\n",
        "\n",
        "  * Model belum di-tuning dengan baik (parameter C, epsilon, kernel mungkin belum optimal)."
      ],
      "metadata": {
        "id": "ttSD7t1Wh-hO"
      }
    },
    {
      "cell_type": "markdown",
      "source": [
        "# Solusi"
      ],
      "metadata": {
        "id": "ySNt3GyLghB3"
      }
    },
    {
      "cell_type": "markdown",
      "source": [
        "## Tuning Hyperparameter SVR"
      ],
      "metadata": {
        "id": "cJUIlQIkgnkJ"
      }
    },
    {
      "cell_type": "code",
      "source": [
        "from sklearn.model_selection import GridSearchCV\n",
        "\n",
        "# Parameter grid untuk tuning hyperparameter\n",
        "param_grid = {\n",
        "    'C': [0.1, 1, 10, 100],\n",
        "    'epsilon': [0.01, 0.1, 0.2],\n",
        "    'gamma': ['scale', 'auto', 0.01, 0.1]\n",
        "}\n",
        "\n",
        "# GridSearchCV untuk SVR\n",
        "grid_search = GridSearchCV(SVR(kernel='rbf'), param_grid, cv=5, scoring='neg_mean_squared_error')\n",
        "\n",
        "# Fit grid search\n",
        "grid_search.fit(X_train_scaled, y_train_scaled)\n",
        "\n",
        "# Menampilkan parameter terbaik\n",
        "print(\"Best Parameters: \", grid_search.best_params_)\n",
        "\n",
        "# Menggunakan model terbaik dari GridSearch\n",
        "best_svr_model = grid_search.best_estimator_\n",
        "\n",
        "# Prediksi dengan model terbaik\n",
        "y_pred_scaled = best_svr_model.predict(X_test_scaled)\n",
        "y_pred = scaler_y.inverse_transform(y_pred_scaled.reshape(-1, 1)).ravel()\n",
        "\n",
        "# Evaluasi model\n",
        "mae = mean_absolute_error(y_test, y_pred)\n",
        "rmse = np.sqrt(mean_squared_error(y_test, y_pred))\n",
        "r2 = r2_score(y_test, y_pred)\n",
        "\n",
        "print(\"📊 Evaluasi Model SVR Setelah Tuning Hyperparameter:\")\n",
        "print(f\"MAE  : {mae:.2f}\")\n",
        "print(f\"RMSE : {rmse:.2f}\")\n",
        "print(f\"R²    : {r2:.4f}\")"
      ],
      "metadata": {
        "colab": {
          "base_uri": "https://localhost:8080/"
        },
        "id": "htn6s-DefFYS",
        "outputId": "41af701b-d182-4d4f-c7c2-3a2b9d1d7338"
      },
      "execution_count": 70,
      "outputs": [
        {
          "output_type": "stream",
          "name": "stdout",
          "text": [
            "Best Parameters:  {'C': 100, 'epsilon': 0.01, 'gamma': 0.01}\n",
            "📊 Evaluasi Model SVR Setelah Tuning Hyperparameter:\n",
            "MAE  : 15.51\n",
            "RMSE : 26.61\n",
            "R²    : 0.9969\n"
          ]
        }
      ]
    },
    {
      "cell_type": "markdown",
      "source": [
        "1. MAE (Mean Absolute Error) = 15.51\n",
        "Artinya, rata-rata kesalahan prediksi hanya sekitar Rp15,51 — sangat kecil.\n",
        "\n",
        "2. RMSE (Root Mean Squared Error) = 26.61\n",
        "Juga sangat rendah, menunjukkan bahwa error tidak hanya kecil, tetapi juga tidak ada outlier besar.\n",
        "\n",
        "3. R² (Koefisien Determinasi) = 0.9969\n",
        "Ini luar biasa. Artinya model menjelaskan 99.69% variabilitas harga saham — akurasi sangat tinggi dan fit hampir sempurna.\n",
        "\n",
        "**Kesimpulan:**\n",
        "  * Tuning hyperparameter terbukti meningkatkan performa secara signifikan dari sebelumnya (R² = -0.3695) menjadi sekarang (R² = 0.9969 / 99.69%).\n",
        "\n",
        "  * Model sekarang sangat akurat dan dapat diandalkan untuk prediksi harga saham."
      ],
      "metadata": {
        "id": "WIIpRtcKjQ-4"
      }
    },
    {
      "cell_type": "code",
      "source": [
        "plt.figure(figsize=(14,6))\n",
        "plt.plot(df['Tanggal'].iloc[-len(y_test):], y_test.values, label='Aktual')\n",
        "plt.plot(df['Tanggal'].iloc[-len(y_test):], y_pred, label='Prediksi SVR', linestyle='--')\n",
        "plt.xlabel(\"Tanggal\")\n",
        "plt.ylabel(\"Harga Saham (Rupiah)\")\n",
        "plt.title(\"Prediksi Harga Saham BNI menggunakan SVR\")\n",
        "plt.legend()\n",
        "plt.grid(True)\n",
        "plt.show()"
      ],
      "metadata": {
        "colab": {
          "base_uri": "https://localhost:8080/",
          "height": 564
        },
        "id": "Rq6FgU23feO3",
        "outputId": "12ad90bd-c23a-4eac-d64a-37cd8a2bd31d"
      },
      "execution_count": 51,
      "outputs": [
        {
          "output_type": "display_data",
          "data": {
            "text/plain": [
              "<Figure size 1400x600 with 1 Axes>"
            ],
            "image/png": "[encoded data removed]"
          },
          "metadata": {}
        }
      ]
    },
    {
      "cell_type": "markdown",
      "source": [
        "**1. Garis Biru (Aktual):**\n",
        "  *Menampilkan harga saham BNI sebenarnya dari November 2023 hingga Februari 2025.\n",
        "\n",
        "  * Terlihat fluktuasi alami pasar dengan tren naik-turun yang cukup tajam.\n",
        "\n",
        "**2. Garis Oranye Putus-putus (Prediksi SVR):**\n",
        "  * Ini adalah hasil prediksi model SVR yang sudah di-tuning (C=100, epsilon=0.01, gamma=0.01).\n",
        "\n",
        "  * Sangat melekat erat dengan garis aktual, menunjukkan bahwa model berhasil menangkap pola harga saham dengan sangat baik.\n",
        "\n",
        "**3. Kesesuaian Model:**\n",
        "  * Hampir tidak ada perbedaan visual yang signifikan antara harga aktual dan prediksi.\n",
        "\n",
        "  * Ini mencerminkan nilai R² = 0.9969, yaitu bahwa 99,69% variasi dalam data aktual dijelaskan oleh model.\n",
        "\n",
        "**4. Perbandingan dengan Sebelumnya:**\n",
        "  * Grafik sebelumnya (sebelum tuning) menunjukkan perbedaan mencolok antara prediksi dan aktual (underfitting).\n",
        "\n",
        "  * Grafik ini menunjukkan model dengan generalisasi dan presisi yang sangat tinggi, bahkan pada tren naik/turun ekstrem.\n"
      ],
      "metadata": {
        "id": "HhjO1rYskO3k"
      }
    },
    {
      "cell_type": "markdown",
      "source": [
        "**KESIMPULAN**\n",
        "\n",
        "Model SVR dengan hyperparameter hasil tuning sangat efektif dalam memprediksi harga saham BNI. Visualisasi ini menunjukkan bahwa model mampu mengikuti tren dan fluktuasi dengan akurasi yang tinggi, serta error prediksi yang sangat kecil."
      ],
      "metadata": {
        "id": "lPQNykANk8Bl"
      }
    }
  ]
}